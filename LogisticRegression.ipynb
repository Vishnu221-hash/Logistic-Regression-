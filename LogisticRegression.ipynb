{
  "cells": [
    {
      "cell_type": "markdown",
      "metadata": {},
      "source": [
        "**Importing Libraries**"
      ]
    },
    {
      "cell_type": "code",
      "execution_count": 5,
      "metadata": {
        "id": "Vs8mD1TTOP09"
      },
      "outputs": [],
      "source": [
        "import numpy as np\n",
        "import pandas as pd\n",
        "\n",
        "import matplotlib.pyplot as plt\n",
        "import matplotlib.axes as ax"
      ]
    },
    {
      "cell_type": "code",
      "execution_count": 17,
      "metadata": {
        "id": "3v8zqzI-PeQT"
      },
      "outputs": [],
      "source": [
        "df=pd.read_csv(\"seeds_dataset.csv\")"
      ]
    },
    {
      "cell_type": "code",
      "execution_count": 18,
      "metadata": {
        "id": "HtI0xPKmPoCr"
      },
      "outputs": [],
      "source": [
        "df=df[:1000]"
      ]
    },
    {
      "cell_type": "code",
      "execution_count": 19,
      "metadata": {
        "colab": {
          "base_uri": "https://localhost:8080/",
          "height": 357
        },
        "id": "3tLbdy7FPszb",
        "outputId": "42c6852a-3f29-462f-f9d7-329ec59a201b"
      },
      "outputs": [
        {
          "data": {
            "text/html": [
              "<div>\n",
              "<style scoped>\n",
              "    .dataframe tbody tr th:only-of-type {\n",
              "        vertical-align: middle;\n",
              "    }\n",
              "\n",
              "    .dataframe tbody tr th {\n",
              "        vertical-align: top;\n",
              "    }\n",
              "\n",
              "    .dataframe thead th {\n",
              "        text-align: right;\n",
              "    }\n",
              "</style>\n",
              "<table border=\"1\" class=\"dataframe\">\n",
              "  <thead>\n",
              "    <tr style=\"text-align: right;\">\n",
              "      <th></th>\n",
              "      <th>area</th>\n",
              "      <th>perimeter</th>\n",
              "      <th>compactness</th>\n",
              "      <th>length</th>\n",
              "      <th>width</th>\n",
              "      <th>asymmetry</th>\n",
              "      <th>length_kernel_groove</th>\n",
              "      <th>kernel</th>\n",
              "    </tr>\n",
              "  </thead>\n",
              "  <tbody>\n",
              "    <tr>\n",
              "      <th>0</th>\n",
              "      <td>15.26</td>\n",
              "      <td>14.84</td>\n",
              "      <td>0.8710</td>\n",
              "      <td>5.763</td>\n",
              "      <td>3.312</td>\n",
              "      <td>2.221</td>\n",
              "      <td>5.220</td>\n",
              "      <td>1</td>\n",
              "    </tr>\n",
              "    <tr>\n",
              "      <th>1</th>\n",
              "      <td>14.88</td>\n",
              "      <td>14.57</td>\n",
              "      <td>0.8811</td>\n",
              "      <td>5.554</td>\n",
              "      <td>3.333</td>\n",
              "      <td>1.018</td>\n",
              "      <td>4.956</td>\n",
              "      <td>1</td>\n",
              "    </tr>\n",
              "    <tr>\n",
              "      <th>2</th>\n",
              "      <td>14.29</td>\n",
              "      <td>14.09</td>\n",
              "      <td>0.9050</td>\n",
              "      <td>5.291</td>\n",
              "      <td>3.337</td>\n",
              "      <td>2.699</td>\n",
              "      <td>4.825</td>\n",
              "      <td>1</td>\n",
              "    </tr>\n",
              "    <tr>\n",
              "      <th>3</th>\n",
              "      <td>13.84</td>\n",
              "      <td>13.94</td>\n",
              "      <td>0.8955</td>\n",
              "      <td>5.324</td>\n",
              "      <td>3.379</td>\n",
              "      <td>2.259</td>\n",
              "      <td>4.805</td>\n",
              "      <td>1</td>\n",
              "    </tr>\n",
              "    <tr>\n",
              "      <th>4</th>\n",
              "      <td>16.14</td>\n",
              "      <td>14.99</td>\n",
              "      <td>0.9034</td>\n",
              "      <td>5.658</td>\n",
              "      <td>3.562</td>\n",
              "      <td>1.355</td>\n",
              "      <td>5.175</td>\n",
              "      <td>1</td>\n",
              "    </tr>\n",
              "    <tr>\n",
              "      <th>5</th>\n",
              "      <td>14.38</td>\n",
              "      <td>14.21</td>\n",
              "      <td>0.8951</td>\n",
              "      <td>5.386</td>\n",
              "      <td>3.312</td>\n",
              "      <td>2.462</td>\n",
              "      <td>4.956</td>\n",
              "      <td>1</td>\n",
              "    </tr>\n",
              "    <tr>\n",
              "      <th>6</th>\n",
              "      <td>14.69</td>\n",
              "      <td>14.49</td>\n",
              "      <td>0.8799</td>\n",
              "      <td>5.563</td>\n",
              "      <td>3.259</td>\n",
              "      <td>3.586</td>\n",
              "      <td>5.219</td>\n",
              "      <td>1</td>\n",
              "    </tr>\n",
              "    <tr>\n",
              "      <th>7</th>\n",
              "      <td>14.11</td>\n",
              "      <td>14.10</td>\n",
              "      <td>0.8911</td>\n",
              "      <td>5.420</td>\n",
              "      <td>3.302</td>\n",
              "      <td>2.700</td>\n",
              "      <td>5.000</td>\n",
              "      <td>1</td>\n",
              "    </tr>\n",
              "    <tr>\n",
              "      <th>8</th>\n",
              "      <td>16.63</td>\n",
              "      <td>15.46</td>\n",
              "      <td>0.8747</td>\n",
              "      <td>6.053</td>\n",
              "      <td>3.465</td>\n",
              "      <td>2.040</td>\n",
              "      <td>5.877</td>\n",
              "      <td>1</td>\n",
              "    </tr>\n",
              "    <tr>\n",
              "      <th>9</th>\n",
              "      <td>16.44</td>\n",
              "      <td>15.25</td>\n",
              "      <td>0.8880</td>\n",
              "      <td>5.884</td>\n",
              "      <td>3.505</td>\n",
              "      <td>1.969</td>\n",
              "      <td>5.533</td>\n",
              "      <td>1</td>\n",
              "    </tr>\n",
              "  </tbody>\n",
              "</table>\n",
              "</div>"
            ],
            "text/plain": [
              "    area  perimeter  compactness  ...  asymmetry  length_kernel_groove  kernel\n",
              "0  15.26      14.84       0.8710  ...      2.221                 5.220       1\n",
              "1  14.88      14.57       0.8811  ...      1.018                 4.956       1\n",
              "2  14.29      14.09       0.9050  ...      2.699                 4.825       1\n",
              "3  13.84      13.94       0.8955  ...      2.259                 4.805       1\n",
              "4  16.14      14.99       0.9034  ...      1.355                 5.175       1\n",
              "5  14.38      14.21       0.8951  ...      2.462                 4.956       1\n",
              "6  14.69      14.49       0.8799  ...      3.586                 5.219       1\n",
              "7  14.11      14.10       0.8911  ...      2.700                 5.000       1\n",
              "8  16.63      15.46       0.8747  ...      2.040                 5.877       1\n",
              "9  16.44      15.25       0.8880  ...      1.969                 5.533       1\n",
              "\n",
              "[10 rows x 8 columns]"
            ]
          },
          "execution_count": 19,
          "metadata": {},
          "output_type": "execute_result"
        }
      ],
      "source": [
        "df=df.drop(\"Unnamed: 0\",axis=1)\n",
        "df.head(10)\n"
      ]
    },
    {
      "cell_type": "code",
      "execution_count": 20,
      "metadata": {
        "colab": {
          "base_uri": "https://localhost:8080/"
        },
        "id": "I9BwIl0pPvOG",
        "outputId": "96414542-aa32-4161-9b5f-2e654987b2cb"
      },
      "outputs": [
        {
          "name": "stdout",
          "output_type": "stream",
          "text": [
            "<class 'pandas.core.frame.DataFrame'>\n",
            "RangeIndex: 210 entries, 0 to 209\n",
            "Data columns (total 8 columns):\n",
            " #   Column                Non-Null Count  Dtype  \n",
            "---  ------                --------------  -----  \n",
            " 0   area                  210 non-null    float64\n",
            " 1   perimeter             210 non-null    float64\n",
            " 2   compactness           210 non-null    float64\n",
            " 3   length                210 non-null    float64\n",
            " 4   width                 210 non-null    float64\n",
            " 5   asymmetry             210 non-null    float64\n",
            " 6   length_kernel_groove  210 non-null    float64\n",
            " 7   kernel                210 non-null    int64  \n",
            "dtypes: float64(7), int64(1)\n",
            "memory usage: 13.2 KB\n"
          ]
        }
      ],
      "source": [
        "df.info()"
      ]
    },
    {
      "cell_type": "code",
      "execution_count": 22,
      "metadata": {
        "colab": {
          "base_uri": "https://localhost:8080/"
        },
        "id": "QG1Pya03Tu2c",
        "outputId": "427d3522-7dc9-43bd-e6bd-c628a2185ec4"
      },
      "outputs": [
        {
          "data": {
            "text/plain": [
              "array([0, 1, 2])"
            ]
          },
          "execution_count": 22,
          "metadata": {},
          "output_type": "execute_result"
        }
      ],
      "source": [
        "df['kernel']=df['kernel']-1\n",
        "df['kernel'].unique()"
      ]
    },
    {
      "cell_type": "code",
      "execution_count": 23,
      "metadata": {
        "colab": {
          "base_uri": "https://localhost:8080/"
        },
        "id": "GK2Oxmx3UfeX",
        "outputId": "16b6a4a8-e644-49e7-bd30-4c29ee9707c8"
      },
      "outputs": [
        {
          "data": {
            "text/plain": [
              "2    70\n",
              "1    70\n",
              "0    70\n",
              "Name: kernel, dtype: int64"
            ]
          },
          "execution_count": 23,
          "metadata": {},
          "output_type": "execute_result"
        }
      ],
      "source": [
        "df['kernel'].value_counts()"
      ]
    },
    {
      "cell_type": "code",
      "execution_count": 25,
      "metadata": {
        "id": "2lLRBPbjU37R"
      },
      "outputs": [],
      "source": [
        "x=df.drop(df.columns[[7]],axis=1)\n",
        "y=df['kernel']"
      ]
    },
    {
      "cell_type": "code",
      "execution_count": 26,
      "metadata": {
        "colab": {
          "base_uri": "https://localhost:8080/",
          "height": 203
        },
        "id": "A1Qo3ji1VCDt",
        "outputId": "d0ddd79a-0d4a-4092-dc20-0db316445712"
      },
      "outputs": [
        {
          "data": {
            "text/html": [
              "<div>\n",
              "<style scoped>\n",
              "    .dataframe tbody tr th:only-of-type {\n",
              "        vertical-align: middle;\n",
              "    }\n",
              "\n",
              "    .dataframe tbody tr th {\n",
              "        vertical-align: top;\n",
              "    }\n",
              "\n",
              "    .dataframe thead th {\n",
              "        text-align: right;\n",
              "    }\n",
              "</style>\n",
              "<table border=\"1\" class=\"dataframe\">\n",
              "  <thead>\n",
              "    <tr style=\"text-align: right;\">\n",
              "      <th></th>\n",
              "      <th>area</th>\n",
              "      <th>perimeter</th>\n",
              "      <th>compactness</th>\n",
              "      <th>length</th>\n",
              "      <th>width</th>\n",
              "      <th>asymmetry</th>\n",
              "      <th>length_kernel_groove</th>\n",
              "    </tr>\n",
              "  </thead>\n",
              "  <tbody>\n",
              "    <tr>\n",
              "      <th>0</th>\n",
              "      <td>15.26</td>\n",
              "      <td>14.84</td>\n",
              "      <td>0.8710</td>\n",
              "      <td>5.763</td>\n",
              "      <td>3.312</td>\n",
              "      <td>2.221</td>\n",
              "      <td>5.220</td>\n",
              "    </tr>\n",
              "    <tr>\n",
              "      <th>1</th>\n",
              "      <td>14.88</td>\n",
              "      <td>14.57</td>\n",
              "      <td>0.8811</td>\n",
              "      <td>5.554</td>\n",
              "      <td>3.333</td>\n",
              "      <td>1.018</td>\n",
              "      <td>4.956</td>\n",
              "    </tr>\n",
              "    <tr>\n",
              "      <th>2</th>\n",
              "      <td>14.29</td>\n",
              "      <td>14.09</td>\n",
              "      <td>0.9050</td>\n",
              "      <td>5.291</td>\n",
              "      <td>3.337</td>\n",
              "      <td>2.699</td>\n",
              "      <td>4.825</td>\n",
              "    </tr>\n",
              "    <tr>\n",
              "      <th>3</th>\n",
              "      <td>13.84</td>\n",
              "      <td>13.94</td>\n",
              "      <td>0.8955</td>\n",
              "      <td>5.324</td>\n",
              "      <td>3.379</td>\n",
              "      <td>2.259</td>\n",
              "      <td>4.805</td>\n",
              "    </tr>\n",
              "    <tr>\n",
              "      <th>4</th>\n",
              "      <td>16.14</td>\n",
              "      <td>14.99</td>\n",
              "      <td>0.9034</td>\n",
              "      <td>5.658</td>\n",
              "      <td>3.562</td>\n",
              "      <td>1.355</td>\n",
              "      <td>5.175</td>\n",
              "    </tr>\n",
              "  </tbody>\n",
              "</table>\n",
              "</div>"
            ],
            "text/plain": [
              "    area  perimeter  compactness  ...  width  asymmetry  length_kernel_groove\n",
              "0  15.26      14.84       0.8710  ...  3.312      2.221                 5.220\n",
              "1  14.88      14.57       0.8811  ...  3.333      1.018                 4.956\n",
              "2  14.29      14.09       0.9050  ...  3.337      2.699                 4.825\n",
              "3  13.84      13.94       0.8955  ...  3.379      2.259                 4.805\n",
              "4  16.14      14.99       0.9034  ...  3.562      1.355                 5.175\n",
              "\n",
              "[5 rows x 7 columns]"
            ]
          },
          "execution_count": 26,
          "metadata": {},
          "output_type": "execute_result"
        }
      ],
      "source": [
        "x.head()"
      ]
    },
    {
      "cell_type": "markdown",
      "metadata": {},
      "source": [
        "**Spliting the Data into Train and Test**"
      ]
    },
    {
      "cell_type": "code",
      "execution_count": 72,
      "metadata": {
        "id": "K0nDE01DVeZz"
      },
      "outputs": [],
      "source": [
        "from sklearn.model_selection import train_test_split\n",
        "\n",
        "xtrain,xtest,ytrain,ytest=train_test_split(x,y,test_size=0.25,random_state=0)"
      ]
    },
    {
      "cell_type": "markdown",
      "metadata": {},
      "source": [
        "**Scaling**"
      ]
    },
    {
      "cell_type": "code",
      "execution_count": 73,
      "metadata": {
        "id": "pYrzC446WKjH"
      },
      "outputs": [],
      "source": [
        "from sklearn.preprocessing import StandardScaler\n",
        "scaler=StandardScaler()\n",
        "xtrain=scaler.fit_transform(xtrain)\n",
        "xtest=scaler.fit_transform(xtest)\n"
      ]
    },
    {
      "cell_type": "code",
      "execution_count": 74,
      "metadata": {
        "colab": {
          "base_uri": "https://localhost:8080/"
        },
        "id": "uGNujFkiWnan",
        "outputId": "bf801974-cd2f-46a3-b931-86c9b23e5990"
      },
      "outputs": [
        {
          "data": {
            "text/plain": [
              "array([[-0.74611567, -0.65972366, -1.02218665, ..., -0.90632233,\n",
              "        -0.25413579, -0.34853337],\n",
              "       [ 0.6223282 ,  0.69525799,  0.18452295, ...,  0.57172364,\n",
              "        -1.09659973,  0.96335943],\n",
              "       [-0.43215847, -0.52346852,  0.74704923, ..., -0.25267384,\n",
              "        -0.73259674, -0.45616544],\n",
              "       ...,\n",
              "       [ 1.48229791,  1.44466125,  0.83324277, ...,  1.50550719,\n",
              "        -0.40186643,  1.58884393],\n",
              "       [ 0.06266537,  0.0139823 ,  0.80148726, ...,  0.33694377,\n",
              "        -0.48571355, -0.46225783],\n",
              "       [-1.20681373, -1.18960475, -1.30344978, ..., -1.30117937,\n",
              "         0.41331392, -0.81764674]])"
            ]
          },
          "execution_count": 74,
          "metadata": {},
          "output_type": "execute_result"
        }
      ],
      "source": [
        "xtrain"
      ]
    },
    {
      "cell_type": "code",
      "execution_count": 75,
      "metadata": {
        "colab": {
          "base_uri": "https://localhost:8080/"
        },
        "id": "2gTQr16AWqCz",
        "outputId": "6d3eb47a-f100-4bb7-bd7f-f8d338f87e19"
      },
      "outputs": [
        {
          "data": {
            "text/plain": [
              "LogisticRegression(C=1.0, class_weight=None, dual=False, fit_intercept=True,\n",
              "                   intercept_scaling=1, l1_ratio=None, max_iter=100,\n",
              "                   multi_class='auto', n_jobs=None, penalty='l2',\n",
              "                   random_state=None, solver='lbfgs', tol=0.0001, verbose=0,\n",
              "                   warm_start=False)"
            ]
          },
          "execution_count": 75,
          "metadata": {},
          "output_type": "execute_result"
        }
      ],
      "source": [
        "from sklearn.linear_model import LogisticRegression\n",
        "\n",
        "classifier=LogisticRegression()\n",
        "classifier.fit(xtrain,ytrain)"
      ]
    },
    {
      "cell_type": "code",
      "execution_count": 76,
      "metadata": {
        "id": "cPXFzA49W7XU"
      },
      "outputs": [],
      "source": [
        "ypred=classifier.predict(xtest)"
      ]
    },
    {
      "cell_type": "code",
      "execution_count": 77,
      "metadata": {
        "id": "pOlKhONRXC8N"
      },
      "outputs": [],
      "source": [
        "from sklearn.metrics import confusion_matrix\n",
        "cm=confusion_matrix(ytest,ypred)"
      ]
    },
    {
      "cell_type": "code",
      "execution_count": 78,
      "metadata": {
        "colab": {
          "base_uri": "https://localhost:8080/"
        },
        "id": "SVOj1-bYXOwt",
        "outputId": "056f6f3f-0130-4e0d-f0aa-9d8a7743a86c"
      },
      "outputs": [
        {
          "data": {
            "text/plain": [
              "array([[16,  0,  1],\n",
              "       [ 3, 18,  0],\n",
              "       [ 0,  0, 15]])"
            ]
          },
          "execution_count": 78,
          "metadata": {},
          "output_type": "execute_result"
        }
      ],
      "source": [
        "cm"
      ]
    },
    {
      "cell_type": "code",
      "execution_count": 80,
      "metadata": {
        "colab": {
          "base_uri": "https://localhost:8080/"
        },
        "id": "R684_4FVXPUD",
        "outputId": "586f1a9d-9f92-4958-bb22-fd2e37123430"
      },
      "outputs": [
        {
          "data": {
            "text/plain": [
              "0.9245283018867925"
            ]
          },
          "execution_count": 80,
          "metadata": {},
          "output_type": "execute_result"
        }
      ],
      "source": [
        " from sklearn.metrics import accuracy_score\n",
        " accuracy_score(ytest,ypred)"
      ]
    },
    {
      "cell_type": "code",
      "execution_count": null,
      "metadata": {
        "id": "-EJ4BK1kYpHH"
      },
      "outputs": [],
      "source": []
    }
  ],
  "metadata": {
    "colab": {
      "collapsed_sections": [],
      "name": "LogisticRegression.ipynb",
      "provenance": []
    },
    "kernelspec": {
      "display_name": "Python 3",
      "name": "python3"
    },
    "language_info": {
      "name": "python"
    }
  },
  "nbformat": 4,
  "nbformat_minor": 0
}
